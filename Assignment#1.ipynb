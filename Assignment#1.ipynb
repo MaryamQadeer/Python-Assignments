{
 "cells": [
  {
   "cell_type": "code",
   "execution_count": 1,
   "metadata": {},
   "outputs": [
    {
     "name": "stdout",
     "output_type": "stream",
     "text": [
      "Twinkle, twinkle, little star,\n",
      "\tHow I wonder what you are!\n",
      "\t\tUp above the world so high,\n",
      "\t\tLike a diamond in the sky.\n",
      "Twinkle, twinkle, little star,\n",
      "\tHow I wonder what you are!\n",
      "Version\n",
      "3.7.4 (default, Aug  9 2019, 18:34:13) [MSC v.1915 64 bit (AMD64)]\n",
      "Version Info\n",
      "sys.version_info(major=3, minor=7, micro=4, releaselevel='final', serial=0)\n",
      "03-11-19 22:08:52\n",
      "Enter the radius of the circle:4\n",
      "The area of the circle is : \n",
      "25.136\n",
      "Enter your First Name : fvd\n",
      "Enter your Last Name : dfv\n",
      "dfv fvd\n",
      "Enter First Number :3\n",
      "Enter Second Number :3\n",
      "6\n"
     ]
    }
   ],
   "source": [
    "# Assignment # 1\n",
    "# Question # 01\n",
    "print(\"Twinkle, twinkle, little star,\")\n",
    "print(\"\\tHow I wonder what you are!\")\n",
    "print(\"\\t\\tUp above the world so high,\")\n",
    "print(\"\\t\\tLike a diamond in the sky.\")\n",
    "print(\"Twinkle, twinkle, little star,\")\n",
    "print(\"\\tHow I wonder what you are!\")\n",
    "# Question # 02\n",
    "import sys\n",
    "print(\"Version\")\n",
    "print(sys.version)\n",
    "print(\"Version Info\")\n",
    "print(sys.version_info)\n",
    "# Question # 03\n",
    "import datetime\n",
    "print(datetime.datetime.now(tz=None).strftime(\"%d-%m-%y %H:%M:%S\"))\n",
    "# Question # 04\n",
    "r = int(input(\"Enter the radius of the circle:\"))\n",
    "area = 2*3.142*r\n",
    "print(\"The area of the circle is : \")\n",
    "print(area)\n",
    "# Question # 05\n",
    "first_name = input(\"Enter your First Name : \")\n",
    "last_name = input(\"Enter your Last Name : \")\n",
    "print(last_name + \" \" + first_name)\n",
    "\n",
    "# Question # 06\n",
    "first_int = int(input(\"Enter First Number :\"))\n",
    "second_int = int(input(\"Enter Second Number :\"))\n",
    "print(first_int + second_int)\n"
   ]
  },
  {
   "cell_type": "code",
   "execution_count": null,
   "metadata": {},
   "outputs": [],
   "source": []
  }
 ],
 "metadata": {
  "kernelspec": {
   "display_name": "Python 3",
   "language": "python",
   "name": "python3"
  },
  "language_info": {
   "codemirror_mode": {
    "name": "ipython",
    "version": 3
   },
   "file_extension": ".py",
   "mimetype": "text/x-python",
   "name": "python",
   "nbconvert_exporter": "python",
   "pygments_lexer": "ipython3",
   "version": "3.7.4"
  }
 },
 "nbformat": 4,
 "nbformat_minor": 2
}
