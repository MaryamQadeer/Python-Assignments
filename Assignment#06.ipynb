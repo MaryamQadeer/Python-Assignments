{
 "cells": [
  {
   "cell_type": "markdown",
   "metadata": {},
   "source": [
    "Question # 01\n",
    "\n",
    "Object Oriented Programming Language is Programming Language in which we consider the real world problems in the form of objects. These object can have some attributes and will possess some behavior.\n",
    "\n",
    "Question # 02\n",
    "\n",
    "Benefits of OOP are:\n",
    "1. We can break down a complex problem into small parts and implement it easily.\n",
    "2. OOP increases the reusability of code.\n",
    "3. The softwares developed using OOP are easy to maintain, modify and update.\n",
    "\n",
    "Question # 03\n",
    "\n",
    "A function contains a block of code which repeats the same block of code again and again whenever we call it. A function can be created anywhere in your code.\n",
    "When we build a function inside a class, then we call it Method. A method will only be created inside a class.\n",
    "\n",
    "Question # 04\n",
    "\n",
    "1. Class: A class is a template of real world objects.\n",
    "2. Object: An object is an instance of class.\n",
    "3. Attribute: An attribute is a property of an object.\n",
    "4. Behavior: A behavior is action of object i.e. whatever an abject is capable of doing.\n",
    "\n",
    "Question # 05\n",
    "\n",
    "class Car():\n",
    "    def __init__(self, model,color,name,company,owner):\n",
    "        self.model = model\n",
    "        self.color = color\n",
    "        self.name = name\n",
    "        self.company = company\n",
    "        self.owner = owner\n",
    "    def car_details(self):\n",
    "        print(\"\\nColor:\\t\\t\",self.color,\"\\nName:\\t\\t\",self.name,\"\\nCompany:\\t\",self.company)\n",
    "        \n",
    "    def car_model(self):\n",
    "        print(\"Model:\\t\\t\",self.model)\n",
    "    \n",
    "    def car_owner(self):\n",
    "        print(\"Owner:\\t\\t\",self.owner)\n",
    "        \n",
    "car_1 = Car(\"Model A\",\"Red\",\"Civic 2019\",\"Honda\",\"Mr. A\")\n",
    "car_2 = Car(\"Model B\",\"Blue\",\"Civic 2019\",\"Honda\",\"Mr. B\")\n",
    "car_3 = Car(\"Model C\",\"White\",\"Civic 2019\",\"Honda\",\"Mr. C\")\n",
    "car_4 = Car(\"Model D\",\"Silver\",\"Civic 2019\",\"Honda\",\"Mr. D\")\n",
    "car_5 = Car(\"Model E\",\"Golden\",\"Civic 2019\",\"Honda\",\"Mr. E\")\n",
    "car_1.car_details()\n",
    "car_1.car_model()\n",
    "car_1.car_owner()"
   ]
  }
 ],
 "metadata": {
  "kernelspec": {
   "display_name": "Python 3",
   "language": "python",
   "name": "python3"
  },
  "language_info": {
   "codemirror_mode": {
    "name": "ipython",
    "version": 3
   },
   "file_extension": ".py",
   "mimetype": "text/x-python",
   "name": "python",
   "nbconvert_exporter": "python",
   "pygments_lexer": "ipython3",
   "version": "3.7.4"
  }
 },
 "nbformat": 4,
 "nbformat_minor": 2
}
